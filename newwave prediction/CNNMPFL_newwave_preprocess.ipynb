{
 "cells": [
  {
   "cell_type": "markdown",
   "metadata": {},
   "source": [
    "# --------------------preprocess--------------------"
   ]
  },
  {
   "cell_type": "markdown",
   "metadata": {},
   "source": [
    "# Import packages"
   ]
  },
  {
   "cell_type": "code",
   "execution_count": 4,
   "metadata": {},
   "outputs": [],
   "source": [
    "#python 3.6.13\n",
    "import pickle\n",
    "import pandas as pd\n",
    "import sys\n",
    "from collections import Counter\n",
    "from multiprocessing import Pool\n",
    "\n",
    "import numpy as np\n",
    "import os\n",
    "import scipy.signal as sg\n",
    "import wfdb\n",
    "from tqdm import tqdm\n",
    "#install opencv-python==4.5.5.64 first then U can install biosppy\n",
    "import biosppy"
   ]
  },
  {
   "cell_type": "markdown",
   "metadata": {},
   "source": [
    "# data"
   ]
  },
  {
   "cell_type": "code",
   "execution_count": 16,
   "metadata": {},
   "outputs": [],
   "source": [
    "sampling_rate = 250\n",
    "invalid_labels = ['|', '~', '!', '+', '[', ']', '\"', 'x']  # non-beat labels\n",
    "before = 63\n",
    "after = 77\n",
    "tol = 0.05\n",
    "\n",
    "#write data link\n",
    "base_dir=\"C:/Users/ASUS/Desktop/cg working/HRV/羅孟宗老師 已標註波形/羅孟宗老師 已標註波形/\"\n",
    "ECGfile=[\"完成檔raw data/C783_2016_10_04-15_38_04_ECG.csv\",\\\n",
    "         \"完成檔raw data/C790_2016_10_28-09_36_26_ECG.csv\",\\\n",
    "         \"完成檔raw data/C790_2016_10_28-09_59_36_ECG.csv\",\\\n",
    "         \"完成檔raw data/C790_2016_10_28-10_54_43_ECG.csv\",\\\n",
    "         \"完成檔raw data/C790_2016_10_28-14_51_20_ECG.csv\",\\\n",
    "         \"完成檔raw data/C795_2016_11_02-11_43_05_ECG.csv\",\\\n",
    "         \"完成檔raw data/C795_2016_11_03-09_28_28_ECG.csv\",\\\n",
    "         \"完成檔raw data/C795_2016_11_03-14_28_24_ECG.csv\",\\\n",
    "         \"完成檔raw data/C795_2016_11_04-07_48_32_ECG.csv\",\\\n",
    "         \"完成檔raw data/C807_2016_11_16-11_46_27_ECG.csv\",\\\n",
    "         \"完成檔raw data/C807_2016_11_18-07_31_57_ECG.csv\"]\n",
    "Markfile=[\"標註在raw data 上/C783_2016_10_04-15_38_04_True_rr.csv\",\\\n",
    "          \"標註在raw data 上/C790_2016_10_28-09_36_26_True_rr.csv\",\\\n",
    "          \"標註在raw data 上/C790_2016_10_28-09_59_36_True_rr.csv\",\\\n",
    "          \"標註在raw data 上/C790_2016_10_28-10_54_43_True_rr.csv\",\\\n",
    "          \"標註在raw data 上/C790_2016_10_28-14_51_20_True_rr.csv\",\\\n",
    "          \"標註在raw data 上/C795_2016_11_02-11_43_05_True_rr.csv\",\\\n",
    "          \"標註在raw data 上/C795_2016_11_03-09_28_28_True_rr.csv\",\\\n",
    "          \"標註在raw data 上/C795_2016_11_03-14_28_24_True_rr.csv\",\\\n",
    "          \"標註在raw data 上/C795_2016_11_04-07_48_32_True_rr.csv\",\\\n",
    "          \"標註在raw data 上/C807_2016_11_16-11_46_27_True_rr.csv\",\\\n",
    "          \"標註在raw data 上/C807_2016_11_18-07_31_57_True_rr.csv\"]\n",
    "\n",
    "#write save link (after preprocess and we will get training data & testing data)\n",
    "link=\"C:/Users/ASUS/Desktop/cg working/HRV/Identify correct wave methods/Deep-Neural-Network-For-Heartbeat-Classification-master/\""
   ]
  },
  {
   "cell_type": "markdown",
   "metadata": {},
   "source": [
    "# preprocess function"
   ]
  },
  {
   "cell_type": "code",
   "execution_count": 17,
   "metadata": {},
   "outputs": [],
   "source": [
    "def pre_processing(EcgWaveform,Mark):\n",
    "    filename = EcgWaveform\n",
    "    signal = pd.read_csv(filename)[\"EcgWaveform\"]\n",
    "    signal=np.array(list(signal),dtype=\"f8\")\n",
    "\n",
    "    baseline = sg.medfilt(sg.medfilt(signal, int(0.2 * sampling_rate) - 1), int(0.6 * sampling_rate) - 1)\n",
    "    signal = signal - baseline\n",
    "\n",
    "    lab=pd.read_csv(Mark)\n",
    "    r_peaks=np.array(list(round(lab[\"position\"])),dtype=\"int\")\n",
    "    \n",
    "    # align r-peaks\n",
    "    newR = []\n",
    "    for r_peak in r_peaks:\n",
    "        r_left = np.maximum(r_peak - int(tol * sampling_rate), 0)\n",
    "        r_right = np.minimum(r_peak + int(tol * sampling_rate), len(signal))\n",
    "        newR.append(r_left + np.argmax(signal[r_left:r_right]))\n",
    "    r_peaks = np.array(newR, dtype=\"int\")\n",
    "\n",
    "    # r-peaks intervals\n",
    "    rris = np.diff(r_peaks)\n",
    "\n",
    "    avg_rri = np.mean(rris)\n",
    "    x1, x2 = [], []\n",
    "    for index in tqdm(range(len(r_peaks)), file=sys.stdout):\n",
    "        if index == 0 or index == len(r_peaks) - 1:\n",
    "            continue\n",
    "        beat = signal[r_peaks[index] - before: r_peaks[index] + after]\n",
    "\n",
    "        pre_rri = rris[index - 1]\n",
    "        post_rri = rris[index]\n",
    "        ratio_rri = pre_rri / post_rri\n",
    "        local_rri = np.mean(rris[np.maximum(index - 10, 0):index])\n",
    "\n",
    "        x1.append(beat)\n",
    "        x2.append([pre_rri - avg_rri, post_rri - avg_rri, ratio_rri, local_rri - avg_rri])\n",
    "\n",
    "    return x1, x2"
   ]
  },
  {
   "cell_type": "markdown",
   "metadata": {},
   "source": [
    "# run"
   ]
  },
  {
   "cell_type": "code",
   "execution_count": 18,
   "metadata": {},
   "outputs": [
    {
     "name": "stdout",
     "output_type": "stream",
     "text": [
      "100%|██████████| 2638/2638 [00:00<00:00, 158645.53it/s]\n",
      "100%|██████████| 1610/1610 [00:00<00:00, 88939.62it/s]\n",
      "100%|██████████| 2452/2452 [00:00<00:00, 152506.58it/s]\n",
      "100%|██████████| 1610/1610 [00:00<00:00, 115747.58it/s]\n"
     ]
    },
    {
     "name": "stderr",
     "output_type": "stream",
     "text": [
      "c:\\Users\\ASUS\\anaconda3\\envs\\ecg-focalloss\\lib\\site-packages\\ipykernel_launcher.py:32: RuntimeWarning: divide by zero encountered in long_scalars\n"
     ]
    },
    {
     "name": "stdout",
     "output_type": "stream",
     "text": [
      "100%|██████████| 4031/4031 [00:00<00:00, 86157.68it/s]\n",
      "100%|██████████| 2230/2230 [00:00<00:00, 120089.59it/s]\n",
      "100%|██████████| 2551/2551 [00:00<00:00, 65077.61it/s]\n",
      "100%|██████████| 2594/2594 [00:00<00:00, 75420.60it/s]\n",
      "100%|██████████| 3076/3076 [00:00<00:00, 108147.56it/s]\n",
      "100%|██████████| 1056/1056 [00:00<?, ?it/s]\n",
      "100%|██████████| 1921/1921 [00:00<00:00, 442439.07it/s]\n"
     ]
    }
   ],
   "source": [
    "x1_train, x2_train = [], []\n",
    "x1_test, x2_test = [], []\n",
    "np.random.seed(1225)\n",
    "for i in range(len(ECGfile)):\n",
    "    x1,x2=pre_processing(os.path.join(base_dir, ECGfile[i]),os.path.join(base_dir, Markfile[i]))\n",
    "    a=np.floor(0.8*len(x1[0]))\n",
    "    if (0.8*len(x1[0])-a)>=0.5:\n",
    "        a+1\n",
    "    b=len(x1[0])-a\n",
    "    a=int(a)\n",
    "    b=int(b)\n",
    "    rdgroup=np.random.choice([0]*a+[1]*b,len(x1[0]),replace=False)\n",
    "\n",
    "    x1tn,x2tn,x1tt,x2tt=[],[],[],[]\n",
    "    for i in range(len(x1[0])):\n",
    "        if rdgroup[i]==1:\n",
    "            x1tt.append(x1[i])\n",
    "            x2tt.append(x2[i])\n",
    "        if rdgroup[i]==0:\n",
    "            x1tn.append(x1[i])\n",
    "            x2tn.append(x2[i])\n",
    "    \n",
    "    x1_train.append(x1tn)\n",
    "    x2_train.append(x2tn)\n",
    "    x1_test.append(x1tt)\n",
    "    x2_test.append(x2tt)\n",
    "\n",
    "x1_train = np.concatenate(x1_train, axis=0)\n",
    "x2_train = np.concatenate(x2_train, axis=0)\n",
    "x1_test = np.concatenate(x1_test, axis=0)\n",
    "x2_test = np.concatenate(x2_test, axis=0)\n",
    "\n",
    "with open(os.path.join(link, \"CNNMPFL_newwave_preprocess.pkl\"), \"wb\") as f:\n",
    "        pickle.dump((\n",
    "            (x1_train, x2_train),\n",
    "            (x1_test, x2_test)\n",
    "        ), f, protocol=4)\n",
    "\n"
   ]
  },
  {
   "cell_type": "code",
   "execution_count": null,
   "metadata": {},
   "outputs": [],
   "source": []
  }
 ],
 "metadata": {
  "kernelspec": {
   "display_name": "ecg-focalloss",
   "language": "python",
   "name": "python3"
  },
  "language_info": {
   "codemirror_mode": {
    "name": "ipython",
    "version": 3
   },
   "file_extension": ".py",
   "mimetype": "text/x-python",
   "name": "python",
   "nbconvert_exporter": "python",
   "pygments_lexer": "ipython3",
   "version": "3.6.13"
  }
 },
 "nbformat": 4,
 "nbformat_minor": 2
}
